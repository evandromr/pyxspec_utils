{
 "cells": [
  {
   "cell_type": "code",
   "execution_count": 7,
   "metadata": {
    "collapsed": true
   },
   "outputs": [],
   "source": [
    "%matplotlib inline\n",
    "from __future__ import division, print_function\n",
    "import matplotlib.pyplot as plt\n",
    "import numpy as np\n",
    "import xspec\n",
    "import pyxspec_tools as pt"
   ]
  },
  {
   "cell_type": "code",
   "execution_count": 2,
   "metadata": {
    "collapsed": true
   },
   "outputs": [],
   "source": [
    "plt.style.use('seaborn-notebook')"
   ]
  },
  {
   "cell_type": "code",
   "execution_count": 52,
   "metadata": {
    "collapsed": true
   },
   "outputs": [],
   "source": [
    "s = xspec.AllData(\"combined_srcspec_rgss.ds\")"
   ]
  },
  {
   "cell_type": "code",
   "execution_count": 53,
   "metadata": {
    "collapsed": true
   },
   "outputs": [],
   "source": [
    "m = xspec.Model(\"tbabs(powerlaw+atable{xout_aout.fits})\")"
   ]
  },
  {
   "cell_type": "code",
   "execution_count": 54,
   "metadata": {
    "collapsed": true
   },
   "outputs": [],
   "source": [
    "def showmodel(m):\n",
    "    \"\"\"Display current model information\n",
    "    \n",
    "        Display a formated view of current model information\n",
    "        such as the one produced by `model.show()` on pyXspec\n",
    "        or by `show par` on Xspec.\n",
    "        The errors are taken from the `xspec.Fit.error` calculation\n",
    "        if that was not performed errros will be zero.\n",
    "    \"\"\"\n",
    "    print(\"Model: {}\".format(m.expression))\n",
    "    print()\n",
    "    print(\"{:4} {:4} {:12} {:10} {:7} {:15} {:12}\".format(\"P#\", \"C#\", \"Component\",\n",
    "                                                         \"Parameter\", \"Unit\", \"Value\",\n",
    "                                                         \"Errors\"))\n",
    "    print(\"--\"*38)\n",
    "    pid = 1\n",
    "    for cid, component in enumerate(m.componentNames):\n",
    "        #print(\"component: m.{}\".format(component))\n",
    "        for parameter in eval(\"m.{}.parameterNames\".format(component)):\n",
    "            #print(\"parameter: m.{}.{}\".format(component, parameter))\n",
    "            u = eval(\"m.{}.{}.unit\".format(component, parameter))\n",
    "            val = eval(\"m.{}.{}.values[0]\".format(component, parameter))\n",
    "            err = eval(\"m.{}.{}.error[:2]\".format(component, parameter))\n",
    "            print(\"{:<4} {:<4} {:<12} {:<10} {:<7} {:<10.5e} ({:<10.5e}, {:<10.5e})\".format(pid, cid+1,\n",
    "                                                  component,\n",
    "                                                  parameter,\n",
    "                                                  u,\n",
    "                                                  val,\n",
    "                                                  err[0], err[1]))\n",
    "            pid+=1"
   ]
  },
  {
   "cell_type": "code",
   "execution_count": 55,
   "metadata": {
    "collapsed": true
   },
   "outputs": [],
   "source": [
    "m.show()"
   ]
  },
  {
   "cell_type": "code",
   "execution_count": 56,
   "metadata": {},
   "outputs": [
    {
     "name": "stdout",
     "output_type": "stream",
     "text": [
      "Model: TBabs(powerlaw + atable{xout_aout.fits})\n",
      "()\n",
      "P#   C#   Component    Parameter  Unit    Value           Errors      \n",
      "----------------------------------------------------------------------------\n",
      "1    1    TBabs        nH         10^22   1.0        (0.0       , 0.0       )\n",
      "2    2    powerlaw     PhoIndex           1.0        (0.0       , 0.0       )\n",
      "3    2    powerlaw     norm               1.0        (0.0       , 0.0       )\n",
      "4    3    mymodel      column             1e+22      (0.0       , 0.0       )\n",
      "5    3    mymodel      rlogxi             1.75       (0.0       , 0.0       )\n",
      "6    3    mymodel      z                  0.0        (0.0       , 0.0       )\n",
      "7    3    mymodel      norm               1.0        (0.0       , 0.0       )\n"
     ]
    }
   ],
   "source": [
    "pt.printmodel(m)"
   ]
  },
  {
   "cell_type": "code",
   "execution_count": null,
   "metadata": {
    "collapsed": true
   },
   "outputs": [],
   "source": []
  },
  {
   "cell_type": "code",
   "execution_count": 29,
   "metadata": {
    "collapsed": true
   },
   "outputs": [],
   "source": [
    "xspec.Plot(\"data\")"
   ]
  },
  {
   "cell_type": "code",
   "execution_count": 40,
   "metadata": {},
   "outputs": [],
   "source": [
    "def plot(plot_str, xaxis='keV', xlims=None, ylims=None):\n",
    "    xspec.Plot.device = \"\"\n",
    "    xspec.Plot(plot_str)\n",
    "    xspec.Plot.xAxis = xaxis\n",
    "    x = np.asarray(xspec.Plot.x())\n",
    "    xerr = np.asarray(xspec.Plot.xErr())\n",
    "    y = np.asarray(xspec.Plot.y())\n",
    "    yerr = np.asarray(xspec.Plot.yErr())\n",
    "    try:\n",
    "        m = np.asarray(xspec.Plot.model())\n",
    "        mavailable=True\n",
    "    except:\n",
    "        mavailable=False\n",
    "        \n",
    "    plt.cla()\n",
    "    plt.errorbar(x, y, xerr=xerr, yerr=yerr, fmt='+', c='k')\n",
    "    if mavailable:\n",
    "        plt.plot(x, m, linestyle='steps-mid', c='r')\n",
    "    if xlims is not None:\n",
    "         plt.xlim(xlims[0], xlims[1])\n",
    "    if ylims is not None:\n",
    "         plt.ylim(ylims[0], ylims[1])\n",
    "    plt.show()"
   ]
  },
  {
   "cell_type": "code",
   "execution_count": 41,
   "metadata": {},
   "outputs": [
    {
     "data": {
      "image/png": "[encoded data removed]",
      "text/plain": [
       "<matplotlib.figure.Figure at 0x7fa37c459ed0>"
      ]
     },
     "metadata": {},
     "output_type": "display_data"
    }
   ],
   "source": [
    "plot('data')"
   ]
  },
  {
   "cell_type": "code",
   "execution_count": 57,
   "metadata": {
    "collapsed": true
   },
   "outputs": [],
   "source": [
    "xspec.Fit.renorm()"
   ]
  },
  {
   "cell_type": "code",
   "execution_count": 59,
   "metadata": {
    "collapsed": true
   },
   "outputs": [],
   "source": [
    "xspec.Fit.perform()"
   ]
  },
  {
   "cell_type": "code",
   "execution_count": 61,
   "metadata": {},
   "outputs": [
    {
     "data": {
      "image/png": "[encoded data removed]",
      "text/plain": [
       "<matplotlib.figure.Figure at 0x7fa37bd368d0>"
      ]
     },
     "metadata": {},
     "output_type": "display_data"
    }
   ],
   "source": [
    "plot('data', xlims=(0.3,0.55), ylims=(-0.001, 4))"
   ]
  },
  {
   "cell_type": "code",
   "execution_count": null,
   "metadata": {
    "collapsed": true
   },
   "outputs": [],
   "source": []
  }
 ],
 "metadata": {
  "kernelspec": {
   "display_name": "Python 2",
   "language": "python",
   "name": "python2"
  },
  "language_info": {
   "codemirror_mode": {
    "name": "ipython",
    "version": 2
   },
   "file_extension": ".py",
   "mimetype": "text/x-python",
   "name": "python",
   "nbconvert_exporter": "python",
   "pygments_lexer": "ipython2",
   "version": "2.7.13"
  }
 },
 "nbformat": 4,
 "nbformat_minor": 2
}
