{
 "cells": [
  {
   "cell_type": "markdown",
   "metadata": {},
   "source": [
    "# Examples of function in `pyxspec_utils`"
   ]
  },
  {
   "cell_type": "markdown",
   "metadata": {},
   "source": [
    "## Initial setup"
   ]
  },
  {
   "cell_type": "code",
   "execution_count": 18,
   "metadata": {},
   "outputs": [],
   "source": [
    "# Import xspec and pyxspec_utils\n",
    "import xspec\n",
    "import pyxspec_utils as pu"
   ]
  },
  {
   "cell_type": "code",
   "execution_count": 19,
   "metadata": {
    "collapsed": true
   },
   "outputs": [],
   "source": [
    "# Define a model\n",
    "m = xspec.Model(\"wabs(powerlaw+mekal)\")"
   ]
  },
  {
   "cell_type": "markdown",
   "metadata": {},
   "source": [
    "## `showmodel()`"
   ]
  },
  {
   "cell_type": "code",
   "execution_count": 20,
   "metadata": {},
   "outputs": [
    {
     "name": "stdout",
     "output_type": "stream",
     "text": [
      "Model: wabs(powerlaw + mekal)\n",
      "\n",
      "P#   C#   Component    Parameter  Unit    Value           Errors      \n",
      "----------------------------------------------------------------------------\n",
      "1    1    wabs         nH         10^22   1.0                       (0.0000e+00, 0.0000e+00)\n",
      "2    2    powerlaw     PhoIndex           1.0                       (0.0000e+00, 0.0000e+00)\n",
      "3    2    powerlaw     norm               1.0                       (0.0000e+00, 0.0000e+00)\n",
      "4    3    mekal        kT         keV     1.0                       (0.0000e+00, 0.0000e+00)\n",
      "5    3    mekal        nH         cm-3    1.0                       (0.0000e+00, 0.0000e+00)\n",
      "6    3    mekal        Abundanc           1.0                       (0.0000e+00, 0.0000e+00)\n",
      "7    3    mekal        Redshift           0.0                       (0.0000e+00, 0.0000e+00)\n",
      "8    3    mekal        switch             1.0                       (0.0000e+00, 0.0000e+00)\n",
      "9    3    mekal        norm               1.0                       (0.0000e+00, 0.0000e+00)\n"
     ]
    }
   ],
   "source": [
    "pu.showmodel(m)"
   ]
  },
  {
   "cell_type": "code",
   "execution_count": 22,
   "metadata": {},
   "outputs": [
    {
     "name": "stdout",
     "output_type": "stream",
     "text": [
      "Help on function showmodel in module pyxspec_utils:\n",
      "\n",
      "showmodel(m)\n",
      "    Print current model information\n",
      "    \n",
      "    Display a formated view of current model information\n",
      "    such as the one produced by `model.show()` on pyXspec\n",
      "    or by `show par` on Xspec.\n",
      "    The errors are taken from the `xspec.Fit.error` calculation\n",
      "    if that was not performed errros will be zero.\n",
      "    \n",
      "    Parameters\n",
      "    ----------\n",
      "    m: Xspec.Model\n",
      "        The model from which you want information\n",
      "    \n",
      "    Returns\n",
      "    --------\n",
      "    Print output as a formated table\n",
      "    \n",
      "    Example\n",
      "    --------\n",
      "    >>> import xspec\n",
      "    >>> import pyxspec_utils as pu\n",
      "    >>> m1 = xspec.Models(\"wabs(powerlaw+mekal)\")\n",
      "    >>> pu.printmodel(m1)\n",
      "    Model: wabs(powerlaw + mekal)\n",
      "    P#   C#   Component    Parameter  Unit    Value        Errors\n",
      "    -------------------------------------------------------------\n",
      "    1    1    wabs         nH         10^22   1.0     (0.0 , 0.0)\n",
      "    2    2    powerlaw     PhoIndex           1.0     (0.0 , 0.0)\n",
      "    3    2    powerlaw     norm               1.0     (0.0 , 0.0)\n",
      "    4    3    mekal        kT         keV     1.0     (0.0 , 0.0)\n",
      "    5    3    mekal        nH         cm-3    1.0     (0.0 , 0.0)\n",
      "    6    3    mekal        Abundanc           1.0     (0.0 , 0.0)\n",
      "    7    3    mekal        Redshift           0.0     (0.0 , 0.0)\n",
      "    8    3    mekal        switch             1.0     (0.0 , 0.0)\n",
      "    9    3    mekal        norm               1.0     (0.0 , 0.0)\n",
      "\n"
     ]
    }
   ],
   "source": [
    "# Show help message\n",
    "help(pu.showmodel)"
   ]
  },
  {
   "cell_type": "code",
   "execution_count": null,
   "metadata": {
    "collapsed": true
   },
   "outputs": [],
   "source": []
  }
 ],
 "metadata": {
  "kernelspec": {
   "display_name": "Python 3",
   "language": "python",
   "name": "python3"
  },
  "language_info": {
   "codemirror_mode": {
    "name": "ipython",
    "version": 3
   },
   "file_extension": ".py",
   "mimetype": "text/x-python",
   "name": "python",
   "nbconvert_exporter": "python",
   "pygments_lexer": "ipython3",
   "version": "3.6.2"
  }
 },
 "nbformat": 4,
 "nbformat_minor": 2
}
